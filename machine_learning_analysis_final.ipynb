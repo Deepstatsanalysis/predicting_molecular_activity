{
 "cells": [
  {
   "cell_type": "markdown",
   "metadata": {},
   "source": [
    "# Machine learning analysis\n",
    "this takes the data set after feature engineering and cleaning and runs ridge and neural network regression. This has only the final models which will be used without any of the exploratory analysis. For more information on the exploratory analysis which was done refer to the paper."
   ]
  },
  {
   "cell_type": "code",
   "execution_count": 2,
   "metadata": {},
   "outputs": [],
   "source": [
    "import pandas as pd\n",
    "import numpy as np\n",
    "import sys\n",
    "import matplotlib.pyplot as plt\n",
    "import seaborn as sns\n",
    "import scipy as sp\n",
    "from scipy.stats.stats import pearsonr\n",
    "import time"
   ]
  },
  {
   "cell_type": "code",
   "execution_count": 3,
   "metadata": {
    "scrolled": true
   },
   "outputs": [
    {
     "name": "stdout",
     "output_type": "stream",
     "text": [
      "1\n",
      "2\n",
      "3\n",
      "4\n",
      "5\n",
      "6\n",
      "7\n",
      "8\n",
      "9\n",
      "10\n",
      "11\n",
      "12\n",
      "13\n",
      "14\n",
      "15\n"
     ]
    }
   ],
   "source": [
    "df_act = {}\n",
    "df_act_test = {}\n",
    "for i in range(1, 16):\n",
    "    df_act[str(i)] = (pd.read_csv('feature_updates/train_act'+str(i)+'.csv', index_col=0))\n",
    "#     df_act_test[str(i)] = (pd.read_csv('feature_updates/test_act'+str(i)+'.csv', index_col=0))\n",
    "    print(i)\n",
    "# df_act = {}\n",
    "# for i in range(1, 16):\n",
    "#     df_act[str(i)] = (pd.read_csv('act'+str(i)+'.csv'))"
   ]
  },
  {
   "cell_type": "markdown",
   "metadata": {},
   "source": [
    "# Machine learning prediction and analysis"
   ]
  },
  {
   "cell_type": "code",
   "execution_count": 4,
   "metadata": {},
   "outputs": [],
   "source": [
    "# Importing proper libraries\n",
    "from sklearn.model_selection import GridSearchCV\n",
    "from sklearn.model_selection import train_test_split\n",
    "from sklearn.model_selection import cross_validate\n",
    "from sklearn.linear_model import SGDClassifier\n",
    "from sklearn.linear_model import Ridge\n",
    "from sklearn.metrics import r2_score\n",
    "from sklearn.metrics import precision_recall_curve\n",
    "from sklearn.preprocessing import StandardScaler\n",
    "from sklearn.pipeline import Pipeline\n",
    "from sklearn.metrics import mean_squared_error\n",
    "from sklearn import svm\n",
    "from sklearn.linear_model import LinearRegression\n",
    "from xgboost import XGBRegressor"
   ]
  },
  {
   "cell_type": "code",
   "execution_count": 5,
   "metadata": {},
   "outputs": [
    {
     "name": "stderr",
     "output_type": "stream",
     "text": [
      "Using TensorFlow backend.\n"
     ]
    }
   ],
   "source": [
    "import tensorflow as tf\n",
    "from tensorflow import set_random_seed\n",
    "\n",
    "import keras\n",
    "from keras.layers import Dense\n",
    "from keras.layers import Dropout\n",
    "from keras.layers import BatchNormalization\n",
    "from keras.layers import initializers\n",
    "from keras.models import Sequential\n",
    "from keras.callbacks import EarlyStopping"
   ]
  },
  {
   "cell_type": "markdown",
   "metadata": {},
   "source": [
    "### Machine learning NN & Ridge Regression on all datasets"
   ]
  },
  {
   "cell_type": "code",
   "execution_count": 19,
   "metadata": {
    "scrolled": true
   },
   "outputs": [
    {
     "name": "stderr",
     "output_type": "stream",
     "text": [
      "C:\\Users\\A1995\\AppData\\Local\\Continuum\\anaconda3\\lib\\site-packages\\sklearn\\utils\\validation.py:595: DataConversionWarning: Data with input dtype int64 was converted to float64 by StandardScaler.\n",
      "  warnings.warn(msg, DataConversionWarning)\n",
      "C:\\Users\\A1995\\AppData\\Local\\Continuum\\anaconda3\\lib\\site-packages\\sklearn\\utils\\validation.py:595: DataConversionWarning: Data with input dtype int64 was converted to float64 by StandardScaler.\n",
      "  warnings.warn(msg, DataConversionWarning)\n",
      "C:\\Users\\A1995\\AppData\\Local\\Continuum\\anaconda3\\lib\\site-packages\\sklearn\\utils\\validation.py:595: DataConversionWarning: Data with input dtype int64 was converted to float64 by StandardScaler.\n",
      "  warnings.warn(msg, DataConversionWarning)\n"
     ]
    },
    {
     "name": "stdout",
     "output_type": "stream",
     "text": [
      "Ridge R^2 value is: 0.5655663009993637\n",
      "Loss function: mean_squared_error\n",
      "Epoch 1/8\n",
      "29792/29792 [==============================] - 8s 265us/step - loss: 0.3725\n",
      "Epoch 2/8\n",
      "29792/29792 [==============================] - 7s 220us/step - loss: 0.2053\n",
      "Epoch 3/8\n",
      "29792/29792 [==============================] - 7s 220us/step - loss: 0.1839\n",
      "Epoch 4/8\n",
      "29792/29792 [==============================] - 7s 220us/step - loss: 0.1744\n",
      "Epoch 5/8\n",
      "29792/29792 [==============================] - 7s 231us/step - loss: 0.1584\n",
      "Epoch 6/8\n",
      "29792/29792 [==============================] - 7s 235us/step - loss: 0.1515\n",
      "Epoch 7/8\n",
      "29792/29792 [==============================] - 7s 234us/step - loss: 0.1421\n",
      "Epoch 8/8\n",
      "29792/29792 [==============================] - 7s 235us/step - loss: 0.1333\n",
      "R^2 value is: 0.6201415383799003\n"
     ]
    },
    {
     "name": "stderr",
     "output_type": "stream",
     "text": [
      "C:\\Users\\A1995\\AppData\\Local\\Continuum\\anaconda3\\lib\\site-packages\\sklearn\\utils\\validation.py:595: DataConversionWarning: Data with input dtype int64 was converted to float64 by StandardScaler.\n",
      "  warnings.warn(msg, DataConversionWarning)\n",
      "C:\\Users\\A1995\\AppData\\Local\\Continuum\\anaconda3\\lib\\site-packages\\sklearn\\utils\\validation.py:595: DataConversionWarning: Data with input dtype int64 was converted to float64 by StandardScaler.\n",
      "  warnings.warn(msg, DataConversionWarning)\n",
      "C:\\Users\\A1995\\AppData\\Local\\Continuum\\anaconda3\\lib\\site-packages\\sklearn\\utils\\validation.py:595: DataConversionWarning: Data with input dtype int64 was converted to float64 by StandardScaler.\n",
      "  warnings.warn(msg, DataConversionWarning)\n"
     ]
    },
    {
     "name": "stdout",
     "output_type": "stream",
     "text": [
      "Ridge R^2 value is: 0.6032829690533751\n",
      "Loss function: mean_squared_error\n",
      "Epoch 1/8\n",
      "6972/6972 [==============================] - 2s 356us/step - loss: 0.9940\n",
      "Epoch 2/8\n",
      "6972/6972 [==============================] - 1s 159us/step - loss: 0.6184\n",
      "Epoch 3/8\n",
      "6972/6972 [==============================] - 1s 161us/step - loss: 0.5180\n",
      "Epoch 4/8\n",
      "6972/6972 [==============================] - 1s 167us/step - loss: 0.4740\n",
      "Epoch 5/8\n",
      "6972/6972 [==============================] - 1s 163us/step - loss: 0.4574\n",
      "Epoch 6/8\n",
      "6972/6972 [==============================] - 1s 160us/step - loss: 0.4157\n",
      "Epoch 7/8\n",
      "6972/6972 [==============================] - 1s 160us/step - loss: 0.4032\n",
      "Epoch 8/8\n",
      "6972/6972 [==============================] - 1s 162us/step - loss: 0.3756\n",
      "R^2 value is: 0.6449569640001309\n"
     ]
    },
    {
     "name": "stderr",
     "output_type": "stream",
     "text": [
      "C:\\Users\\A1995\\AppData\\Local\\Continuum\\anaconda3\\lib\\site-packages\\sklearn\\utils\\validation.py:595: DataConversionWarning: Data with input dtype int64 was converted to float64 by StandardScaler.\n",
      "  warnings.warn(msg, DataConversionWarning)\n",
      "C:\\Users\\A1995\\AppData\\Local\\Continuum\\anaconda3\\lib\\site-packages\\sklearn\\utils\\validation.py:595: DataConversionWarning: Data with input dtype int64 was converted to float64 by StandardScaler.\n",
      "  warnings.warn(msg, DataConversionWarning)\n",
      "C:\\Users\\A1995\\AppData\\Local\\Continuum\\anaconda3\\lib\\site-packages\\sklearn\\utils\\validation.py:595: DataConversionWarning: Data with input dtype int64 was converted to float64 by StandardScaler.\n",
      "  warnings.warn(msg, DataConversionWarning)\n"
     ]
    },
    {
     "name": "stdout",
     "output_type": "stream",
     "text": [
      "Ridge R^2 value is: 0.6127708994235506\n",
      "Loss function: mean_squared_error\n",
      "Epoch 1/8\n",
      "4918/4918 [==============================] - 2s 426us/step - loss: 1.8004\n",
      "Epoch 2/8\n",
      "4918/4918 [==============================] - 1s 149us/step - loss: 0.6251\n",
      "Epoch 3/8\n",
      "4918/4918 [==============================] - 1s 148us/step - loss: 0.5798\n",
      "Epoch 4/8\n",
      "4918/4918 [==============================] - 1s 149us/step - loss: 0.4760\n",
      "Epoch 5/8\n",
      "4918/4918 [==============================] - 1s 154us/step - loss: 0.4264\n",
      "Epoch 6/8\n",
      "4918/4918 [==============================] - 1s 155us/step - loss: 0.4265\n",
      "Epoch 7/8\n",
      "4918/4918 [==============================] - 1s 154us/step - loss: 0.3993\n",
      "Epoch 8/8\n",
      "4918/4918 [==============================] - 1s 154us/step - loss: 0.3813\n",
      "R^2 value is: 0.6156946971293749\n"
     ]
    },
    {
     "name": "stderr",
     "output_type": "stream",
     "text": [
      "C:\\Users\\A1995\\AppData\\Local\\Continuum\\anaconda3\\lib\\site-packages\\sklearn\\utils\\validation.py:595: DataConversionWarning: Data with input dtype int64 was converted to float64 by StandardScaler.\n",
      "  warnings.warn(msg, DataConversionWarning)\n",
      "C:\\Users\\A1995\\AppData\\Local\\Continuum\\anaconda3\\lib\\site-packages\\sklearn\\utils\\validation.py:595: DataConversionWarning: Data with input dtype int64 was converted to float64 by StandardScaler.\n",
      "  warnings.warn(msg, DataConversionWarning)\n",
      "C:\\Users\\A1995\\AppData\\Local\\Continuum\\anaconda3\\lib\\site-packages\\sklearn\\utils\\validation.py:595: DataConversionWarning: Data with input dtype int64 was converted to float64 by StandardScaler.\n",
      "  warnings.warn(msg, DataConversionWarning)\n"
     ]
    },
    {
     "name": "stdout",
     "output_type": "stream",
     "text": [
      "Ridge R^2 value is: 0.6159969253549232\n",
      "Loss function: mean_squared_error\n",
      "Epoch 1/8\n",
      "1452/1452 [==============================] - 2s 1ms/step - loss: 3.6329\n",
      "Epoch 2/8\n",
      "1452/1452 [==============================] - 0s 159us/step - loss: 0.3874\n",
      "Epoch 3/8\n",
      "1452/1452 [==============================] - 0s 150us/step - loss: 0.2409\n",
      "Epoch 4/8\n",
      "1452/1452 [==============================] - 0s 150us/step - loss: 0.1734\n",
      "Epoch 5/8\n",
      "1452/1452 [==============================] - 0s 159us/step - loss: 0.1446\n",
      "Epoch 6/8\n",
      "1452/1452 [==============================] - 0s 154us/step - loss: 0.1293\n",
      "Epoch 7/8\n",
      "1452/1452 [==============================] - 0s 155us/step - loss: 0.1191\n",
      "Epoch 8/8\n",
      "1452/1452 [==============================] - 0s 159us/step - loss: 0.1233\n",
      "R^2 value is: 0.4008253313646859\n"
     ]
    },
    {
     "name": "stderr",
     "output_type": "stream",
     "text": [
      "C:\\Users\\A1995\\AppData\\Local\\Continuum\\anaconda3\\lib\\site-packages\\sklearn\\utils\\validation.py:595: DataConversionWarning: Data with input dtype int64 was converted to float64 by StandardScaler.\n",
      "  warnings.warn(msg, DataConversionWarning)\n",
      "C:\\Users\\A1995\\AppData\\Local\\Continuum\\anaconda3\\lib\\site-packages\\sklearn\\utils\\validation.py:595: DataConversionWarning: Data with input dtype int64 was converted to float64 by StandardScaler.\n",
      "  warnings.warn(msg, DataConversionWarning)\n",
      "C:\\Users\\A1995\\AppData\\Local\\Continuum\\anaconda3\\lib\\site-packages\\sklearn\\utils\\validation.py:595: DataConversionWarning: Data with input dtype int64 was converted to float64 by StandardScaler.\n",
      "  warnings.warn(msg, DataConversionWarning)\n"
     ]
    },
    {
     "name": "stdout",
     "output_type": "stream",
     "text": [
      "Ridge R^2 value is: 0.6846367997802745\n",
      "Loss function: mean_squared_error\n",
      "Epoch 1/8\n",
      "2569/2569 [==============================] - 2s 715us/step - loss: 4.6139\n",
      "Epoch 2/8\n",
      "2569/2569 [==============================] - 0s 173us/step - loss: 1.2035\n",
      "Epoch 3/8\n",
      "2569/2569 [==============================] - 0s 179us/step - loss: 1.1126\n",
      "Epoch 4/8\n",
      "2569/2569 [==============================] - 0s 175us/step - loss: 0.9261\n",
      "Epoch 5/8\n",
      "2569/2569 [==============================] - 0s 181us/step - loss: 1.1004\n",
      "Epoch 6/8\n",
      "2569/2569 [==============================] - 0s 182us/step - loss: 0.7560\n",
      "Epoch 7/8\n",
      "2569/2569 [==============================] - 0s 182us/step - loss: 0.6720\n",
      "Epoch 8/8\n",
      "2569/2569 [==============================] - 0s 181us/step - loss: 0.6401\n",
      "R^2 value is: 0.6315788453868827\n"
     ]
    },
    {
     "name": "stderr",
     "output_type": "stream",
     "text": [
      "C:\\Users\\A1995\\AppData\\Local\\Continuum\\anaconda3\\lib\\site-packages\\sklearn\\utils\\validation.py:595: DataConversionWarning: Data with input dtype int64 was converted to float64 by StandardScaler.\n",
      "  warnings.warn(msg, DataConversionWarning)\n",
      "C:\\Users\\A1995\\AppData\\Local\\Continuum\\anaconda3\\lib\\site-packages\\sklearn\\utils\\validation.py:595: DataConversionWarning: Data with input dtype int64 was converted to float64 by StandardScaler.\n",
      "  warnings.warn(msg, DataConversionWarning)\n",
      "C:\\Users\\A1995\\AppData\\Local\\Continuum\\anaconda3\\lib\\site-packages\\sklearn\\utils\\validation.py:595: DataConversionWarning: Data with input dtype int64 was converted to float64 by StandardScaler.\n",
      "  warnings.warn(msg, DataConversionWarning)\n"
     ]
    },
    {
     "name": "stdout",
     "output_type": "stream",
     "text": [
      "Ridge R^2 value is: 0.800670898511675\n",
      "Loss function: mean_squared_error\n",
      "Epoch 1/8\n",
      "29910/29910 [==============================] - 9s 315us/step - loss: 0.4554\n",
      "Epoch 2/8\n",
      "29910/29910 [==============================] - 8s 273us/step - loss: 0.2665\n",
      "Epoch 3/8\n",
      "29910/29910 [==============================] - 8s 278us/step - loss: 0.2281\n",
      "Epoch 4/8\n",
      "29910/29910 [==============================] - 8s 278us/step - loss: 0.2030\n",
      "Epoch 5/8\n",
      "29910/29910 [==============================] - 8s 277us/step - loss: 0.1865\n",
      "Epoch 6/8\n",
      "29910/29910 [==============================] - 8s 283us/step - loss: 0.1720\n",
      "Epoch 7/8\n",
      "29910/29910 [==============================] - 8s 281us/step - loss: 0.1575\n",
      "Epoch 8/8\n",
      "29910/29910 [==============================] - 8s 281us/step - loss: 0.1470\n",
      "R^2 value is: 0.8327194078075719\n"
     ]
    },
    {
     "name": "stderr",
     "output_type": "stream",
     "text": [
      "C:\\Users\\A1995\\AppData\\Local\\Continuum\\anaconda3\\lib\\site-packages\\sklearn\\utils\\validation.py:595: DataConversionWarning: Data with input dtype int64 was converted to float64 by StandardScaler.\n",
      "  warnings.warn(msg, DataConversionWarning)\n",
      "C:\\Users\\A1995\\AppData\\Local\\Continuum\\anaconda3\\lib\\site-packages\\sklearn\\utils\\validation.py:595: DataConversionWarning: Data with input dtype int64 was converted to float64 by StandardScaler.\n",
      "  warnings.warn(msg, DataConversionWarning)\n",
      "C:\\Users\\A1995\\AppData\\Local\\Continuum\\anaconda3\\lib\\site-packages\\sklearn\\utils\\validation.py:595: DataConversionWarning: Data with input dtype int64 was converted to float64 by StandardScaler.\n",
      "  warnings.warn(msg, DataConversionWarning)\n"
     ]
    },
    {
     "name": "stdout",
     "output_type": "stream",
     "text": [
      "Ridge R^2 value is: 0.6119863283928704\n",
      "Loss function: mean_squared_error\n",
      "Epoch 1/8\n",
      "1255/1255 [==============================] - 2s 1ms/step - loss: 1717.3087\n",
      "Epoch 2/8\n",
      "1255/1255 [==============================] - 0s 148us/step - loss: 844.3112\n",
      "Epoch 3/8\n",
      "1255/1255 [==============================] - 0s 146us/step - loss: 658.6655\n",
      "Epoch 4/8\n",
      "1255/1255 [==============================] - 0s 150us/step - loss: 557.9876\n",
      "Epoch 5/8\n",
      "1255/1255 [==============================] - 0s 149us/step - loss: 491.1650\n",
      "Epoch 6/8\n",
      "1255/1255 [==============================] - 0s 146us/step - loss: 426.3494\n",
      "Epoch 7/8\n",
      "1255/1255 [==============================] - 0s 175us/step - loss: 381.1767\n",
      "Epoch 8/8\n",
      "1255/1255 [==============================] - 0s 189us/step - loss: 356.5236\n",
      "R^2 value is: 0.58150637104491\n"
     ]
    },
    {
     "name": "stderr",
     "output_type": "stream",
     "text": [
      "C:\\Users\\A1995\\AppData\\Local\\Continuum\\anaconda3\\lib\\site-packages\\sklearn\\utils\\validation.py:595: DataConversionWarning: Data with input dtype int64 was converted to float64 by StandardScaler.\n",
      "  warnings.warn(msg, DataConversionWarning)\n",
      "C:\\Users\\A1995\\AppData\\Local\\Continuum\\anaconda3\\lib\\site-packages\\sklearn\\utils\\validation.py:595: DataConversionWarning: Data with input dtype int64 was converted to float64 by StandardScaler.\n",
      "  warnings.warn(msg, DataConversionWarning)\n",
      "C:\\Users\\A1995\\AppData\\Local\\Continuum\\anaconda3\\lib\\site-packages\\sklearn\\utils\\validation.py:595: DataConversionWarning: Data with input dtype int64 was converted to float64 by StandardScaler.\n",
      "  warnings.warn(msg, DataConversionWarning)\n"
     ]
    },
    {
     "name": "stdout",
     "output_type": "stream",
     "text": [
      "Ridge R^2 value is: 0.644777879040849\n",
      "Loss function: mean_squared_error\n",
      "Epoch 1/8\n",
      "7972/7972 [==============================] - 3s 359us/step - loss: 2.0008\n",
      "Epoch 2/8\n",
      "7972/7972 [==============================] - 1s 180us/step - loss: 0.6179\n",
      "Epoch 3/8\n",
      "7972/7972 [==============================] - 1s 182us/step - loss: 0.5392\n",
      "Epoch 4/8\n",
      "7972/7972 [==============================] - 2s 213us/step - loss: 0.4738\n",
      "Epoch 5/8\n",
      "7972/7972 [==============================] - 2s 218us/step - loss: 0.4491\n",
      "Epoch 6/8\n",
      "7972/7972 [==============================] - 2s 220us/step - loss: 0.4460\n",
      "Epoch 7/8\n",
      "7972/7972 [==============================] - 2s 200us/step - loss: 0.4330\n",
      "Epoch 8/8\n",
      "7972/7972 [==============================] - 2s 217us/step - loss: 0.4165\n",
      "R^2 value is: 0.6142211566594338\n"
     ]
    },
    {
     "name": "stderr",
     "output_type": "stream",
     "text": [
      "C:\\Users\\A1995\\AppData\\Local\\Continuum\\anaconda3\\lib\\site-packages\\sklearn\\utils\\validation.py:595: DataConversionWarning: Data with input dtype int64 was converted to float64 by StandardScaler.\n",
      "  warnings.warn(msg, DataConversionWarning)\n",
      "C:\\Users\\A1995\\AppData\\Local\\Continuum\\anaconda3\\lib\\site-packages\\sklearn\\utils\\validation.py:595: DataConversionWarning: Data with input dtype int64 was converted to float64 by StandardScaler.\n",
      "  warnings.warn(msg, DataConversionWarning)\n",
      "C:\\Users\\A1995\\AppData\\Local\\Continuum\\anaconda3\\lib\\site-packages\\sklearn\\utils\\validation.py:595: DataConversionWarning: Data with input dtype int64 was converted to float64 by StandardScaler.\n",
      "  warnings.warn(msg, DataConversionWarning)\n"
     ]
    },
    {
     "name": "stdout",
     "output_type": "stream",
     "text": [
      "Ridge R^2 value is: 0.7234903443448208\n",
      "Loss function: mean_squared_error\n",
      "Epoch 1/8\n",
      "4280/4280 [==============================] - 2s 529us/step - loss: 1.1292\n",
      "Epoch 2/8\n",
      "4280/4280 [==============================] - 1s 168us/step - loss: 0.5131\n",
      "Epoch 3/8\n",
      "4280/4280 [==============================] - 1s 174us/step - loss: 0.4348\n",
      "Epoch 4/8\n",
      "4280/4280 [==============================] - 1s 188us/step - loss: 0.3752\n",
      "Epoch 5/8\n",
      "4280/4280 [==============================] - 1s 170us/step - loss: 0.3535\n",
      "Epoch 6/8\n",
      "4280/4280 [==============================] - 1s 162us/step - loss: 0.3060\n",
      "Epoch 7/8\n",
      "4280/4280 [==============================] - 1s 167us/step - loss: 0.2977\n",
      "Epoch 8/8\n",
      "4280/4280 [==============================] - 1s 174us/step - loss: 0.2895\n",
      "R^2 value is: 0.6921121575115006\n"
     ]
    },
    {
     "name": "stderr",
     "output_type": "stream",
     "text": [
      "C:\\Users\\A1995\\AppData\\Local\\Continuum\\anaconda3\\lib\\site-packages\\sklearn\\utils\\validation.py:595: DataConversionWarning: Data with input dtype int64 was converted to float64 by StandardScaler.\n",
      "  warnings.warn(msg, DataConversionWarning)\n",
      "C:\\Users\\A1995\\AppData\\Local\\Continuum\\anaconda3\\lib\\site-packages\\sklearn\\utils\\validation.py:595: DataConversionWarning: Data with input dtype int64 was converted to float64 by StandardScaler.\n",
      "  warnings.warn(msg, DataConversionWarning)\n",
      "C:\\Users\\A1995\\AppData\\Local\\Continuum\\anaconda3\\lib\\site-packages\\sklearn\\utils\\validation.py:595: DataConversionWarning: Data with input dtype int64 was converted to float64 by StandardScaler.\n",
      "  warnings.warn(msg, DataConversionWarning)\n"
     ]
    },
    {
     "name": "stdout",
     "output_type": "stream",
     "text": [
      "Ridge R^2 value is: 0.6432059055048905\n",
      "Loss function: mean_squared_error\n",
      "Epoch 1/15\n",
      "8920/8920 [==============================] - 9s 1ms/step - loss: 41.5416\n",
      "Epoch 2/15\n",
      "8920/8920 [==============================] - 7s 752us/step - loss: 11.4592\n",
      "Epoch 3/15\n",
      "8920/8920 [==============================] - 7s 757us/step - loss: 1.1485\n",
      "Epoch 4/15\n",
      "8920/8920 [==============================] - 7s 754us/step - loss: 0.6070\n",
      "Epoch 5/15\n",
      "8920/8920 [==============================] - 7s 767us/step - loss: 0.5705\n",
      "Epoch 6/15\n",
      "8920/8920 [==============================] - 7s 774us/step - loss: 0.5219\n",
      "Epoch 7/15\n",
      "8920/8920 [==============================] - 7s 796us/step - loss: 0.5112\n",
      "Epoch 8/15\n",
      "8920/8920 [==============================] - 7s 776us/step - loss: 0.4975\n",
      "Epoch 9/15\n",
      "8920/8920 [==============================] - 7s 790us/step - loss: 0.4869\n",
      "Epoch 10/15\n",
      "8920/8920 [==============================] - 7s 778us/step - loss: 0.4619\n",
      "Epoch 11/15\n",
      "8920/8920 [==============================] - 7s 793us/step - loss: 0.4570\n",
      "Epoch 12/15\n",
      "8920/8920 [==============================] - 7s 788us/step - loss: 0.4337\n",
      "Epoch 13/15\n",
      "8920/8920 [==============================] - 7s 789us/step - loss: 0.4340\n",
      "Epoch 14/15\n",
      "8920/8920 [==============================] - 7s 790us/step - loss: 0.4199\n",
      "Epoch 15/15\n",
      "8920/8920 [==============================] - 7s 790us/step - loss: 0.4104\n",
      "R^2 value is: 0.7360662331885893\n"
     ]
    },
    {
     "name": "stderr",
     "output_type": "stream",
     "text": [
      "C:\\Users\\A1995\\AppData\\Local\\Continuum\\anaconda3\\lib\\site-packages\\sklearn\\utils\\validation.py:595: DataConversionWarning: Data with input dtype int64 was converted to float64 by StandardScaler.\n",
      "  warnings.warn(msg, DataConversionWarning)\n",
      "C:\\Users\\A1995\\AppData\\Local\\Continuum\\anaconda3\\lib\\site-packages\\sklearn\\utils\\validation.py:595: DataConversionWarning: Data with input dtype int64 was converted to float64 by StandardScaler.\n",
      "  warnings.warn(msg, DataConversionWarning)\n",
      "C:\\Users\\A1995\\AppData\\Local\\Continuum\\anaconda3\\lib\\site-packages\\sklearn\\utils\\validation.py:595: DataConversionWarning: Data with input dtype int64 was converted to float64 by StandardScaler.\n",
      "  warnings.warn(msg, DataConversionWarning)\n"
     ]
    },
    {
     "name": "stdout",
     "output_type": "stream",
     "text": [
      "Ridge R^2 value is: 0.6193379550281239\n",
      "Loss function: mean_squared_error\n",
      "Epoch 1/8\n",
      "5119/5119 [==============================] - 3s 518us/step - loss: 0.3598\n",
      "Epoch 2/8\n",
      "5119/5119 [==============================] - 1s 178us/step - loss: 0.1215\n",
      "Epoch 3/8\n",
      "5119/5119 [==============================] - 1s 175us/step - loss: 0.1032\n",
      "Epoch 4/8\n",
      "5119/5119 [==============================] - 1s 176us/step - loss: 0.0841\n",
      "Epoch 5/8\n",
      "5119/5119 [==============================] - 1s 175us/step - loss: 0.0823\n",
      "Epoch 6/8\n",
      "5119/5119 [==============================] - 1s 175us/step - loss: 0.0754\n",
      "Epoch 7/8\n",
      "5119/5119 [==============================] - 1s 175us/step - loss: 0.0636\n",
      "Epoch 8/8\n",
      "5119/5119 [==============================] - 1s 183us/step - loss: 0.0635\n",
      "R^2 value is: 0.5474202739706024\n"
     ]
    },
    {
     "name": "stderr",
     "output_type": "stream",
     "text": [
      "C:\\Users\\A1995\\AppData\\Local\\Continuum\\anaconda3\\lib\\site-packages\\sklearn\\utils\\validation.py:595: DataConversionWarning: Data with input dtype int64 was converted to float64 by StandardScaler.\n",
      "  warnings.warn(msg, DataConversionWarning)\n",
      "C:\\Users\\A1995\\AppData\\Local\\Continuum\\anaconda3\\lib\\site-packages\\sklearn\\utils\\validation.py:595: DataConversionWarning: Data with input dtype int64 was converted to float64 by StandardScaler.\n",
      "  warnings.warn(msg, DataConversionWarning)\n",
      "C:\\Users\\A1995\\AppData\\Local\\Continuum\\anaconda3\\lib\\site-packages\\sklearn\\utils\\validation.py:595: DataConversionWarning: Data with input dtype int64 was converted to float64 by StandardScaler.\n",
      "  warnings.warn(msg, DataConversionWarning)\n"
     ]
    },
    {
     "name": "stdout",
     "output_type": "stream",
     "text": [
      "Ridge R^2 value is: 0.6290016992165663\n",
      "Loss function: mean_squared_error\n",
      "Epoch 1/8\n",
      "6920/6920 [==============================] - 3s 413us/step - loss: 0.4301\n",
      "Epoch 2/8\n",
      "6920/6920 [==============================] - 1s 186us/step - loss: 0.1908\n",
      "Epoch 3/8\n",
      "6920/6920 [==============================] - 1s 190us/step - loss: 0.1607\n",
      "Epoch 4/8\n",
      "6920/6920 [==============================] - 1s 186us/step - loss: 0.1395\n",
      "Epoch 5/8\n",
      "6920/6920 [==============================] - 1s 188us/step - loss: 0.1263\n",
      "Epoch 6/8\n",
      "6920/6920 [==============================] - 1s 187us/step - loss: 0.1131\n",
      "Epoch 7/8\n",
      "6920/6920 [==============================] - 1s 187us/step - loss: 0.1058\n",
      "Epoch 8/8\n",
      "6920/6920 [==============================] - 1s 189us/step - loss: 0.0984\n",
      "R^2 value is: 0.6802451364624374\n"
     ]
    },
    {
     "name": "stderr",
     "output_type": "stream",
     "text": [
      "C:\\Users\\A1995\\AppData\\Local\\Continuum\\anaconda3\\lib\\site-packages\\sklearn\\utils\\validation.py:595: DataConversionWarning: Data with input dtype int64 was converted to float64 by StandardScaler.\n",
      "  warnings.warn(msg, DataConversionWarning)\n",
      "C:\\Users\\A1995\\AppData\\Local\\Continuum\\anaconda3\\lib\\site-packages\\sklearn\\utils\\validation.py:595: DataConversionWarning: Data with input dtype int64 was converted to float64 by StandardScaler.\n",
      "  warnings.warn(msg, DataConversionWarning)\n",
      "C:\\Users\\A1995\\AppData\\Local\\Continuum\\anaconda3\\lib\\site-packages\\sklearn\\utils\\validation.py:595: DataConversionWarning: Data with input dtype int64 was converted to float64 by StandardScaler.\n",
      "  warnings.warn(msg, DataConversionWarning)\n"
     ]
    },
    {
     "name": "stdout",
     "output_type": "stream",
     "text": [
      "Ridge R^2 value is: 0.4148918793403006\n",
      "Loss function: mean_squared_error\n",
      "Epoch 1/8\n",
      "4884/4884 [==============================] - 3s 529us/step - loss: 0.5536\n",
      "Epoch 2/8\n",
      "4884/4884 [==============================] - 1s 201us/step - loss: 0.2099\n",
      "Epoch 3/8\n",
      "4884/4884 [==============================] - 1s 200us/step - loss: 0.1794\n",
      "Epoch 4/8\n",
      "4884/4884 [==============================] - 1s 201us/step - loss: 0.1615\n",
      "Epoch 5/8\n",
      "4884/4884 [==============================] - 1s 198us/step - loss: 0.1418\n",
      "Epoch 6/8\n",
      "4884/4884 [==============================] - 1s 198us/step - loss: 0.1402\n",
      "Epoch 7/8\n",
      "4884/4884 [==============================] - 1s 200us/step - loss: 0.1205\n",
      "Epoch 8/8\n",
      "4884/4884 [==============================] - 1s 201us/step - loss: 0.1107\n",
      "R^2 value is: 0.3924222698743445\n"
     ]
    },
    {
     "name": "stderr",
     "output_type": "stream",
     "text": [
      "C:\\Users\\A1995\\AppData\\Local\\Continuum\\anaconda3\\lib\\site-packages\\sklearn\\utils\\validation.py:595: DataConversionWarning: Data with input dtype int64 was converted to float64 by StandardScaler.\n",
      "  warnings.warn(msg, DataConversionWarning)\n",
      "C:\\Users\\A1995\\AppData\\Local\\Continuum\\anaconda3\\lib\\site-packages\\sklearn\\utils\\validation.py:595: DataConversionWarning: Data with input dtype int64 was converted to float64 by StandardScaler.\n",
      "  warnings.warn(msg, DataConversionWarning)\n",
      "C:\\Users\\A1995\\AppData\\Local\\Continuum\\anaconda3\\lib\\site-packages\\sklearn\\utils\\validation.py:595: DataConversionWarning: Data with input dtype int64 was converted to float64 by StandardScaler.\n",
      "  warnings.warn(msg, DataConversionWarning)\n"
     ]
    },
    {
     "name": "stdout",
     "output_type": "stream",
     "text": [
      "Ridge R^2 value is: 0.3812552197928307\n",
      "Loss function: mean_squared_error\n",
      "Epoch 1/8\n",
      "3332/3332 [==============================] - 2s 692us/step - loss: 0.3754\n",
      "Epoch 2/8\n",
      "3332/3332 [==============================] - 1s 185us/step - loss: 0.1416\n",
      "Epoch 3/8\n",
      "3332/3332 [==============================] - 1s 190us/step - loss: 0.1238\n",
      "Epoch 4/8\n",
      "3332/3332 [==============================] - 1s 190us/step - loss: 0.1099\n",
      "Epoch 5/8\n",
      "3332/3332 [==============================] - 1s 190us/step - loss: 0.0990\n",
      "Epoch 6/8\n",
      "3332/3332 [==============================] - 1s 192us/step - loss: 0.0881\n",
      "Epoch 7/8\n",
      "3332/3332 [==============================] - 1s 190us/step - loss: 0.0765\n",
      "Epoch 8/8\n",
      "3332/3332 [==============================] - 1s 191us/step - loss: 0.0722\n",
      "R^2 value is: 0.3956701296956008\n"
     ]
    },
    {
     "name": "stderr",
     "output_type": "stream",
     "text": [
      "C:\\Users\\A1995\\AppData\\Local\\Continuum\\anaconda3\\lib\\site-packages\\sklearn\\utils\\validation.py:595: DataConversionWarning: Data with input dtype int64 was converted to float64 by StandardScaler.\n",
      "  warnings.warn(msg, DataConversionWarning)\n",
      "C:\\Users\\A1995\\AppData\\Local\\Continuum\\anaconda3\\lib\\site-packages\\sklearn\\utils\\validation.py:595: DataConversionWarning: Data with input dtype int64 was converted to float64 by StandardScaler.\n",
      "  warnings.warn(msg, DataConversionWarning)\n",
      "C:\\Users\\A1995\\AppData\\Local\\Continuum\\anaconda3\\lib\\site-packages\\sklearn\\utils\\validation.py:595: DataConversionWarning: Data with input dtype int64 was converted to float64 by StandardScaler.\n",
      "  warnings.warn(msg, DataConversionWarning)\n"
     ]
    },
    {
     "name": "stdout",
     "output_type": "stream",
     "text": [
      "Ridge R^2 value is: 0.8050309845348779\n",
      "Loss function: mean_squared_error\n",
      "Epoch 1/8\n",
      "4047/4047 [==============================] - 3s 620us/step - loss: 2.2264\n",
      "Epoch 2/8\n",
      "4047/4047 [==============================] - 1s 206us/step - loss: 1.0975\n",
      "Epoch 3/8\n",
      "4047/4047 [==============================] - 1s 207us/step - loss: 0.8793\n",
      "Epoch 4/8\n",
      "4047/4047 [==============================] - 1s 207us/step - loss: 0.7841\n",
      "Epoch 5/8\n",
      "4047/4047 [==============================] - 1s 210us/step - loss: 0.7004\n",
      "Epoch 6/8\n",
      "4047/4047 [==============================] - 1s 210us/step - loss: 0.6242\n",
      "Epoch 7/8\n",
      "4047/4047 [==============================] - 1s 209us/step - loss: 0.5759\n",
      "Epoch 8/8\n",
      "4047/4047 [==============================] - 1s 208us/step - loss: 0.5569\n",
      "R^2 value is: 0.8069775141417523\n",
      "395.8012125492096\n"
     ]
    }
   ],
   "source": [
    "# dictionary initialization to hold the R-squared values and predicted values\n",
    "r2_nn = {}\n",
    "r2_ridge = {}\n",
    "y_testd = {}\n",
    "y_predict_ridged = {}\n",
    "y_predict_nnd = {}\n",
    "t1 = time.time()\n",
    "for i in range(1,16):   # loop over entire dataset\n",
    "    #### Defining features and y variables ####\n",
    "    y = df_act[str(i)].Act.values\n",
    "    X = df_act[str(i)].drop(['MOLECULE', 'Act'], axis=1).values\n",
    "\n",
    "    X_train, X_test, y_train, y_test = train_test_split(X, y, random_state=5, test_size=0.2) #train test split 80/20\n",
    "    \n",
    "    y_testd[str(i)] = y_test\n",
    "    \n",
    "    #### Ridge regression analysis ####\n",
    "    scaler = StandardScaler()\n",
    "    ridge = Ridge(alpha=1000)\n",
    "    ridge_scaled = Pipeline(steps=[('scaler',scaler), ('ridge',ridge)])\n",
    "\n",
    "    ridge_scaled.fit(X_train, y_train)\n",
    "    y_predict_ridge = ridge_scaled.predict(X_test)\n",
    "    y_predict_ridged[str(i)] = y_predict_ridge\n",
    "    \n",
    "    print('Ridge R^2 value is: ' + str(r2_score(y_testd[str(i)], y_predict_ridge)))\n",
    "    \n",
    "    r2_ridge[str(i)] = r2_score(y_testd[str(i)], y_predict_ridge)\n",
    "    \n",
    "    #### Neural network analysis ####\n",
    "    ## Change in NN analysis for Act 10 to increase accuracy (different number of epochs and layers)\n",
    "    if (i == 10):\n",
    "        \n",
    "        # # Save the number of columns in predictors: n_cols\n",
    "        n_cols = X_train.shape[1]\n",
    "\n",
    "        # # Set up the model: model\n",
    "        model = Sequential()\n",
    "        # # Add the first layer\n",
    "        model.add(Dense(500, activation='relu', input_shape=(n_cols,)))\n",
    "        model.add(BatchNormalization())\n",
    "        # # Add the second layer\n",
    "        model.add(Dense(50, activation='relu', input_shape=(n_cols,)))\n",
    "        model.add(BatchNormalization())\n",
    "\n",
    "        model.add(Dense(10, activation='relu', input_shape=(n_cols,)))\n",
    "        model.add(BatchNormalization())\n",
    "\n",
    "        # # Add the output layer\n",
    "        model.add(Dense(1))\n",
    "        model.compile(optimizer='adam', loss='mean_squared_error')\n",
    "        # # Verify that model contains information from compiling\n",
    "        print(\"Loss function: \" + model.loss)\n",
    "\n",
    "\n",
    "        # model_fit = model.fit(X_train, y_train, epochs=70, validation_split=0.2, callbacks=[early_stopping_monitor])\n",
    "        model.fit(X_train, y_train, epochs=15)\n",
    "    else:\n",
    "        # # Save the number of columns in predictors: n_cols\n",
    "        n_cols = X_train.shape[1]\n",
    "\n",
    "        # # Set up the model: model\n",
    "        model = Sequential()\n",
    "\n",
    "        # # Add the first layer\n",
    "        model.add(Dense(100, activation='relu', input_shape=(n_cols,), bias_initializer=initializers.Constant(0.1)))\n",
    "\n",
    "        # # Add the second layer\n",
    "        model.add(Dense(50, activation='relu', input_shape=(n_cols,), bias_initializer=initializers.Constant(0.1)))\n",
    "\n",
    "\n",
    "        # # Add the output layer\n",
    "        model.add(Dense(1))\n",
    "\n",
    "\n",
    "        model.compile(optimizer='adam', loss='mean_squared_error')\n",
    "        # # Verify that model contains information from compiling\n",
    "        print(\"Loss function: \" + model.loss)\n",
    "\n",
    "        model.fit(X_train, y_train, epochs=8)\n",
    "\n",
    "    y_predict_nn = model.predict(X_test)\n",
    "    y_predict_nnd[str(i)] = y_predict_nn\n",
    "\n",
    "    print('R^2 value is: ' + str(r2_score(y_testd[str(i)], y_predict_nn)))\n",
    "    \n",
    "    r2_nn[str(i)] = r2_score(y_testd[str(i)], y_predict_nn)\n",
    "t2 = time.time()  # printing the time for analysis\n",
    "print(t2 - t1)"
   ]
  },
  {
   "cell_type": "markdown",
   "metadata": {},
   "source": [
    "# Ensemble averaging and visualizations"
   ]
  },
  {
   "cell_type": "markdown",
   "metadata": {},
   "source": [
    "To get the maximum accuracy from the models, an ensemble average can be created. Where the predicted values will follow as: "
   ]
  },
  {
   "cell_type": "markdown",
   "metadata": {},
   "source": [
    "$$ y_{avg}=\\frac{y_{NN}+y_{ridge}}{2} $$"
   ]
  },
  {
   "cell_type": "markdown",
   "metadata": {},
   "source": [
    "Creating dictionaries with new predicted values and the corresponding R-squared"
   ]
  },
  {
   "cell_type": "code",
   "execution_count": 20,
   "metadata": {},
   "outputs": [],
   "source": [
    "new_y_predict = {}\n",
    "r2_new = {}\n",
    "for i in range(1, 16):\n",
    "    new_y_predict[str(i)] = np.transpose((np.transpose(y_predict_nnd[str(i)]) + y_predict_ridged[str(i)])/2)  \n",
    "    r2_new[str(i)] = r2_score(y_testd[str(i)], new_y_predict[str(i)])"
   ]
  },
  {
   "cell_type": "code",
   "execution_count": 21,
   "metadata": {
    "scrolled": true
   },
   "outputs": [
    {
     "name": "stdout",
     "output_type": "stream",
     "text": [
      "avg multi-algorithm R-squared: 0.6512103820204952\n"
     ]
    }
   ],
   "source": [
    "print(\"avg multi-algorithm R-squared: \"+ str(sum(r2_new.values())/len(r2_new)))"
   ]
  },
  {
   "cell_type": "code",
   "execution_count": 106,
   "metadata": {
    "scrolled": false
   },
   "outputs": [],
   "source": [
    "index = []\n",
    "r2_df = (pd.DataFrame({\"average\": r2_new, \"Neural network\": r2_nn, \"Ridge\": r2_ridge}))\n",
    "r2_df.index = r2_df.index.values.astype(int)\n",
    "r2_df.sort_index(inplace=True)\n",
    "# r2_df.index = index\n",
    "for i in range(1, 16):\n",
    "    index.append(\"Act\"+str(i))\n",
    "# r2_df.columns = [\"average\", \"Neural network\", \"Ridge\"] \n",
    "# r2_df.fillna(0, inplace=True)\n",
    "r2_df.index = index\n"
   ]
  },
  {
   "cell_type": "code",
   "execution_count": 107,
   "metadata": {
    "scrolled": false
   },
   "outputs": [
    {
     "data": {
      "image/png": "[encoded data removed]",
      "text/plain": [
       "<Figure size 432x288 with 1 Axes>"
      ]
     },
     "metadata": {
      "needs_background": "light"
     },
     "output_type": "display_data"
    }
   ],
   "source": [
    "import matplotlib.pyplot as plt\n",
    "# r2_df.drop(\"Poisson\", axis = 1).plot()\n",
    "# r2_df.plot()\n",
    "# ind = list(r2_df.index)\n",
    "# plt.ylabel(\"R-squared\")\n",
    "mean_val = r2_df.average.sum()/len(r2_df.average)\n",
    "df = r2_df.reset_index()\n",
    "df = df.rename(columns={\"index\":\"hour\"})\n",
    "ax = df[[\"average\", \"Neural network\", \"Ridge\"]].plot(xticks=df.index)\n",
    "plt.axhline(y=mean_val, linestyle='--')\n",
    "ax.set_xticklabels(df[\"hour\"], rotation=45);\n",
    "plt.ylabel(\"R-squared\")\n",
    "plt.show()"
   ]
  },
  {
   "cell_type": "code",
   "execution_count": null,
   "metadata": {},
   "outputs": [],
   "source": []
  }
 ],
 "metadata": {
  "kernelspec": {
   "display_name": "Python 3",
   "language": "python",
   "name": "python3"
  },
  "language_info": {
   "codemirror_mode": {
    "name": "ipython",
    "version": 3
   },
   "file_extension": ".py",
   "mimetype": "text/x-python",
   "name": "python",
   "nbconvert_exporter": "python",
   "pygments_lexer": "ipython3",
   "version": "3.6.8"
  }
 },
 "nbformat": 4,
 "nbformat_minor": 2
}
