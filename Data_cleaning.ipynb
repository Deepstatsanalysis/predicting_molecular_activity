{
 "cells": [
  {
   "cell_type": "markdown",
   "metadata": {},
   "source": [
    "# Data cleaning and feature engineering"
   ]
  },
  {
   "cell_type": "markdown",
   "metadata": {},
   "source": [
    "This takes the original csv files, performs some data cleaning and feature engineering. This effectively reduces the size of the datasets from 2 GB to about 0.9 GB while retaining similar accuracy in the Ridge regression and NN models. This substaintually helps with runtime. "
   ]
  },
  {
   "cell_type": "code",
   "execution_count": 1,
   "metadata": {},
   "outputs": [],
   "source": [
    "import pandas as pd\n",
    "import numpy as np\n",
    "import sys\n",
    "import matplotlib.pyplot as plt\n",
    "import seaborn as sns\n",
    "import scipy as sp\n",
    "from scipy.stats.stats import pearsonr\n",
    "import time"
   ]
  },
  {
   "cell_type": "code",
   "execution_count": 2,
   "metadata": {},
   "outputs": [
    {
     "name": "stdout",
     "output_type": "stream",
     "text": [
      "1\n",
      "2\n",
      "3\n",
      "4\n",
      "5\n",
      "6\n",
      "7\n",
      "8\n",
      "9\n",
      "10\n",
      "11\n",
      "12\n",
      "13\n",
      "14\n",
      "15\n"
     ]
    }
   ],
   "source": [
    "df_act = {}\n",
    "df_act_test = {}\n",
    "for i in range(1, 16):\n",
    "    df_act[str(i)] = (pd.read_csv('TrainingSet/ACT'+str(i)+'_competition_training.csv'))\n",
    "    df_act_test[str(i)] = (pd.read_csv('TestSet//ACT'+str(i)+'_competition_test.csv'))\n",
    "    print(i)"
   ]
  },
  {
   "cell_type": "markdown",
   "metadata": {},
   "source": [
    "Removal of the columns which have all zeros. This should make some of the calculations run a bit faster. "
   ]
  },
  {
   "cell_type": "code",
   "execution_count": 3,
   "metadata": {},
   "outputs": [
    {
     "name": "stdout",
     "output_type": "stream",
     "text": [
      "1\n",
      "2\n",
      "3\n",
      "4\n",
      "5\n",
      "6\n",
      "7\n",
      "8\n",
      "9\n",
      "10\n",
      "11\n",
      "12\n",
      "13\n",
      "14\n",
      "15\n"
     ]
    }
   ],
   "source": [
    "for i in range(1, len(df_act) + 1):\n",
    "    sum_1 = np.sum(df_act[str(i)])\n",
    "    isum_1 = np.array(sum_1.loc[sum_1 == 0].index)\n",
    "    df_act[str(i)].drop(isum_1, axis = 1, inplace = True)\n",
    "    df_act_test[str(i)].drop(isum_1, axis = 1, inplace = True)\n",
    "    print(i)"
   ]
  },
  {
   "cell_type": "markdown",
   "metadata": {},
   "source": [
    "This is to find the correlation between the features and the dependent variable (the activity). This will gives us\n",
    "some idea of which features have the most importance."
   ]
  },
  {
   "cell_type": "code",
   "execution_count": 4,
   "metadata": {},
   "outputs": [
    {
     "name": "stdout",
     "output_type": "stream",
     "text": [
      "1\n",
      "2\n",
      "3\n",
      "4\n",
      "5\n",
      "6\n",
      "7\n",
      "8\n",
      "9\n",
      "10\n",
      "11\n",
      "12\n",
      "13\n",
      "14\n",
      "15\n"
     ]
    }
   ],
   "source": [
    "df_corr = {}\n",
    "for j in range(1, len(df_act)+1):\n",
    "    corr = list()\n",
    "    pval = list()\n",
    "    for i in range(2, len(df_act[str(j)].columns)):\n",
    "        pears = np.abs(pearsonr(df_act[str(j)].Act, df_act[str(j)].iloc[:,i]))\n",
    "        corr.append(pears[0])\n",
    "        pval.append(pears[1])\n",
    "        dic  = {'corr':corr, 'pval':pval}\n",
    "    print(j)\n",
    "    df_corr[str(j)] = pd.DataFrame(dic).sort_values(by='corr', ascending=False)"
   ]
  },
  {
   "cell_type": "code",
   "execution_count": 5,
   "metadata": {},
   "outputs": [],
   "source": [
    "# This is to drop all of the NaN values from the correlation data frame\n",
    "for i in range(1, len(df_corr)+1):\n",
    "    df_corr[str(i)].dropna(inplace=True)"
   ]
  },
  {
   "cell_type": "markdown",
   "metadata": {},
   "source": [
    "Visualization of the distribution of the correlation and p-values for Act 1"
   ]
  },
  {
   "cell_type": "code",
   "execution_count": 35,
   "metadata": {
    "scrolled": true
   },
   "outputs": [
    {
     "data": {
      "image/png": "[encoded data removed]",
      "text/plain": [
       "<Figure size 432x288 with 2 Axes>"
      ]
     },
     "metadata": {
      "needs_background": "light"
     },
     "output_type": "display_data"
    }
   ],
   "source": [
    "df_corr['1'].hist(bins=20)\n",
    "plt.axvline(x=0.05, color='r')\n",
    "plt.show()"
   ]
  },
  {
   "cell_type": "code",
   "execution_count": null,
   "metadata": {},
   "outputs": [],
   "source": [
    "for i in range(1, len(df_corr)+1):\n",
    "    index_list = np.array(df_corr[str(i)].loc[df_corr[str(i)].pval > .05].index) + 2\n",
    "    print('i is: ' + str(i))\n",
    "    col_drop = df_act[str(i)].columns[index_list]         # need the col_drop because df_act will be updated and won't be \n",
    "    df_act[str(i)].drop(col_drop, axis=1, inplace=True)   # able to find the index.\n",
    "    df_act_test[str(i)].drop(col_drop, axis=1, inplace=True)"
   ]
  },
  {
   "cell_type": "code",
   "execution_count": null,
   "metadata": {},
   "outputs": [],
   "source": [
    "# Sending the data back out to CSV so that it can be read again with lower amount of data.\n",
    "for i in range(1, len(df_act)+1):\n",
    "    df_act[str(i)].to_csv('feature_updates/train_act'+str(i)+'.csv')\n",
    "    df_act_test[str(i)].to_csv('feature_updates/test_act'+str(i)+'.csv')"
   ]
  }
 ],
 "metadata": {
  "kernelspec": {
   "display_name": "Python 3",
   "language": "python",
   "name": "python3"
  },
  "language_info": {
   "codemirror_mode": {
    "name": "ipython",
    "version": 3
   },
   "file_extension": ".py",
   "mimetype": "text/x-python",
   "name": "python",
   "nbconvert_exporter": "python",
   "pygments_lexer": "ipython3",
   "version": "3.7.1"
  }
 },
 "nbformat": 4,
 "nbformat_minor": 2
}
